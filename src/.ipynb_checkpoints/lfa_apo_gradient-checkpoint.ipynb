{
 "cells": [
  {
   "cell_type": "markdown",
   "metadata": {},
   "source": [
    "# Calc de gradient vector for a cavity"
   ]
  },
  {
   "cell_type": "code",
   "execution_count": 1,
   "metadata": {
    "collapsed": false
   },
   "outputs": [],
   "source": [
    "using DataFrames\n",
    "using Chemfiles\n",
    "using Gadfly\n",
    "using Cairo\n",
    "using Distributions\n",
    "using Bio\n",
    "using MIToS.PDB\n",
    "set_default_plot_size(28cm, 10cm)"
   ]
  },
  {
   "cell_type": "code",
   "execution_count": 2,
   "metadata": {
    "collapsed": false
   },
   "outputs": [
    {
     "data": {
      "text/plain": [
       "tognm (generic function with 1 method)"
      ]
     },
     "execution_count": 2,
     "metadata": {},
     "output_type": "execute_result"
    }
   ],
   "source": [
    "## along mode vector coordinates\n",
    "function tognm(vtor_anm)\n",
    "    vtor_gnm = Array{Float64}(convert(Int64, length(vtor_anm)/3));\n",
    "    vtor_anm =  vtor_anm.^2\n",
    "    for i=1:convert(Int64, length(vtor_anm)/3)\n",
    "        vtor_gnm[i] = sqrt(vtor_anm[i*3-2] + vtor_anm[i*3-1] + vtor_anm[i*3])\n",
    "    end\n",
    "    return vtor_gnm\n",
    "end"
   ]
  },
  {
   "cell_type": "code",
   "execution_count": 3,
   "metadata": {
    "collapsed": false
   },
   "outputs": [
    {
     "data": {
      "text/plain": [
       "read_ptraj_modes (generic function with 1 method)"
      ]
     },
     "execution_count": 3,
     "metadata": {},
     "output_type": "execute_result"
    }
   ],
   "source": [
    "function read_ptraj_modes(file, modes_elements)    \n",
    "# Leo el archivo de modos\n",
    "    modes_file=open(file, \"r\")\n",
    "    modes_text = readdlm(modes_file, skipstart=0, skipblanks=true, \n",
    "    ignore_invalid_chars=true, comments=true, comment_char='\\*')\n",
    "    close(modes_file)\n",
    "\n",
    "# Ahora obtengo la matriz de modos y el array de evalues\n",
    "    nmodes = modes_text[1, 5]\n",
    "    ncoords = convert(Int64, modes_elements)\n",
    "    lines = ceil(Int64, ncoords/7)\n",
    "    rest = convert(Int64, ncoords % 7)\n",
    "    \n",
    "    eval=Array{Float64}(nmodes);\n",
    "    mode = Array{Float64}(ncoords, nmodes);\n",
    "    temp1=Array{Float64}(ncoords, 1);\n",
    "    temp2 = Array{Float64}(ncoords+(7-rest));\n",
    "\n",
    "    j=lines + 1 + 2 # 1 p/ q lea la prox linea 2 por el header\n",
    "\n",
    "    if rest != 0\n",
    "        for i=1:nmodes\n",
    "        eval[i] = modes_text[j, 2]\n",
    "        temp = transpose(modes_text[(j+1):(lines+j), :])\n",
    "\n",
    "        temp2 = reshape(temp, ncoords+(7-rest))\n",
    "        for k=(rest+1):7\n",
    "            pop!(temp2)\n",
    "        end\n",
    "        mode[:, i] = temp2\n",
    "        j = j + lines + 1\n",
    "        end\n",
    "    else\n",
    "        for i=1:nmodes\n",
    "        eval[i] = modes_text[j, 2]\n",
    "        temp = transpose(modes_text[(j+1):(lines+j), :])\n",
    "\n",
    "        mode[:, i] = reshape(temp, ncoords)\n",
    "        j = j + lines + 1\n",
    "    end\n",
    "    end\n",
    "\n",
    "# Normalizo los modos\n",
    "    for i=1:nmodes\n",
    "        mode[: ,i] = mode[:, i] / norm(mode[:, i])\n",
    "    end\n",
    "    \n",
    "    return mode, eval\n",
    "end"
   ]
  },
  {
   "cell_type": "code",
   "execution_count": 4,
   "metadata": {
    "collapsed": false
   },
   "outputs": [
    {
     "data": {
      "text/plain": [
       "displaceAA (generic function with 1 method)"
      ]
     },
     "execution_count": 4,
     "metadata": {},
     "output_type": "execute_result"
    }
   ],
   "source": [
    "function displaceAA(mod_pdb, vector1, multiplier)\n",
    "  # Preparo variables\n",
    "   pdb = copy(mod_pdb)\n",
    "   struct_xyz = coordinatesmatrix(pdb)\n",
    "   new_struct_xyz = copy(struct_xyz)\n",
    "   natom = Array{Int64}(1)\n",
    "    vector = Array{Float64}(1, 3)\n",
    "   aa = length(pdb)\n",
    "   # Determino el nro de atomos de c/ aminoácido\n",
    "   for i=1:aa\n",
    "       push!(natom, length(pdb[i]))\n",
    "   end  \n",
    "   shift!(natom)\n",
    "   temp1 = Array{Int64}(natom[1],3)\n",
    "\n",
    "   # Adapto el vector p/ darle la misma forma q la matriz de coordenadas\n",
    "    for i=1:3:length(vector1)\n",
    "        if i== 1\n",
    "            vector = reshape(vector1[i:i+2], 1, 3)\n",
    "            continue\n",
    "        end\n",
    "        vector = vcat(vector, reshape(vector1[i:i+2], 1, 3))\n",
    "    end\n",
    "\n",
    "   for i=1:aa\n",
    "       if i == 1         \n",
    "           temp1 = repmat(vector[i, :], natom[i], 1)\n",
    "           continue\n",
    "       end  \n",
    "       temp2 = repmat(vector[i, :], natom[i], 1)\n",
    "       temp1 = vcat(temp1, temp2)\n",
    "   end  \n",
    "   sum_mat = temp1\n",
    "\n",
    "   # Listo, ahora puedo mover el pdb\n",
    "   new_struct_xyz  = struct_xyz + sum_mat .* multiplier\n",
    "   pdb = change_coordinates(pdb, new_struct_xyz);\n",
    "   return pdb\n",
    "end"
   ]
  },
  {
   "cell_type": "markdown",
   "metadata": {},
   "source": [
    "## Along mode vector coordinates"
   ]
  },
  {
   "cell_type": "code",
   "execution_count": 5,
   "metadata": {
    "collapsed": false
   },
   "outputs": [
    {
     "data": {
      "text/plain": [
       "\"/home/german/labo/16/lbp/cavities/mode_gradient/lfa_apo/\""
      ]
     },
     "execution_count": 5,
     "metadata": {},
     "output_type": "execute_result"
    }
   ],
   "source": [
    "# Leo el pdb y preparo variables\n",
    "\n",
    "pdb_file_original = \"/home/german/labo/16/lbp/cavities/mode_gradient/bu/lfa_apo.pdb\"\n",
    "pdb_name = \"lfa_apo\"\n",
    "pdb = read(\"/home/german/labo/16/lbp/cavities/mode_gradient/bu/lfa_apo.pdb\", PDBFile, group=\"ATOM\");\n",
    "atom_xyz = coordinatesmatrix(pdb)\n",
    "natom_res = Array{Int64}(1);\n",
    "# Obtengo el número de átomos de c/ residuo\n",
    "for i=1:length(pdb)\n",
    "    push!(natom_res, length(pdb[i]))\n",
    "end\n",
    "shift!(natom_res)\n",
    "# Obtengo el nro de aa's y hago vectores con sus indices\n",
    "aa = length(pdb)\n",
    "aa3 = aa * 3\n",
    "aa_index = collect(1:aa)\n",
    "aa3_index = map(x -> x*3, repeat(aa_index, inner=[3])) - repeat([2, 1, 0], outer = [length(aa_index)]);\n",
    "# Leo los modos de PCA. \n",
    "modes, evals = read_ptraj_modes(\"/home/german/labo/16/lbp/run/lfa_apo/pca/modes_lfa_apo\", aa3);\n",
    "# Mtx p/ desplazar las posiciones\n",
    "modo_sum = Array{Float64}(aa, 3);\n",
    "# Arrays p/ guardar volumenes de pockets\n",
    "vol_pocket_mto_1 = Array{Float64}(aa3-6);\n",
    "vol_pocket_mto_2 = Array{Float64}(aa3-6);\n",
    "vol_pocket_mto_3 = Array{Float64}(aa3-6);\n",
    "# Template p/ pdbs de salida\n",
    "files_template = \"/home/german/labo/16/lbp/cavities/mode_gradient/lfa_apo/\""
   ]
  },
  {
   "cell_type": "code",
   "execution_count": null,
   "metadata": {
    "collapsed": false,
    "scrolled": false
   },
   "outputs": [],
   "source": [
    "constant = 1\n",
    "# Ahora tengo q mover la estructura a lo largo de los modos normales, pero esto requiere rearreglar \n",
    "# los modos p/ q tengan el mismo formato q las coordenadas de los atomos\n",
    "for magnitude in [1 3 5 8]\n",
    "    displacement = string(\"d\", magnitude)\n",
    "    temp1_modo_sum = Array{Float64}(natom_res[1], 3)\n",
    "    for j=1:aa3-6\n",
    "        for i=1:aa\n",
    "            modo_sum[i, 1] = modes_mto[i*3-2, j]\n",
    "            modo_sum[i, 2] = modes_mto[i*3-1, j]\n",
    "            modo_sum[i, 3] = modes_mto[i*3, j]\n",
    "        end\n",
    "# Ya tengo el modo en el formato adecuado, pero estos son p/ mover Calphas. Ahora tengo q \n",
    "# repetir sus filas p/ poder mover todos los atomos de c/ aminoacido.\n",
    "        for i=1:aa\n",
    "            if i == 1            \n",
    "                temp1_modo_sum = repmat(modo_sum[i, :], natom_res[i], 1)\n",
    "                continue\n",
    "            end\n",
    "            temp2_modo_sum = repmat(modo_sum[i, :], natom_res[i], 1)\n",
    "            temp1_modo_sum = vcat(temp1_modo_sum, temp2_modo_sum)\n",
    "        end\n",
    "modo_sum = copy(temp1_modo_sum)\n",
    "# Ajusto el desplazamiento q voy a hacer\n",
    "        factor = magnitude * constant #* (1 / evals_mto[j])\n",
    "# Modifico las coordenadas\n",
    "        mto_atom_xyz = coordinatesmatrix(mto_pdb)\n",
    "        new_mto_atom_xyz = mto_atom_xyz + modo_sum .* factor;\n",
    "# Obtengo un nuevo frame con las coordenadas modificadas\n",
    "        new_mto_pdb = change_coordinates(mto_pdb, new_mto_atom_xyz)\n",
    "# Escribo el nuevo .pdb\n",
    "        pdb_mto = string(files_template, displacement, \"/\", \"mod\", j, \"_\", displacement, \"_mto.pdb\")\n",
    "        write(pdb_mto, new_mto_pdb, PDBFile)\n",
    "    end\n",
    "end"
   ]
  },
  {
   "cell_type": "code",
   "execution_count": null,
   "metadata": {
    "collapsed": false
   },
   "outputs": [],
   "source": [
    "# Ahora calculo los vectores\n",
    "magnitude = 8\n",
    "displacement = string(\"d\", magnitude)\n",
    "for j=1:aa3-6\n",
    "    pdb_mto = string(files_template, displacement, \"/\", \"mod\", j, \"_\", displacement, \"_mto.pdb\")\n",
    "# Calculo el pocket\n",
    "    conf_mto = string(files_template, displacement, \"/conf_mto.cfg\")\n",
    "    vol_mto = string(files_template, displacement, \"/vol_mto\")\n",
    "    run(`epock -s $pdb_mto -c $conf_mto -o $vol_mto`)\n",
    "    rtdo = readdlm(vol_mto)\n",
    "    vol_pocket_mto_1[j] = rtdo[2, 2]\n",
    "    vol_pocket_mto_2[j] = rtdo[2, 3]\n",
    "    vol_pocket_mto_3[j] = rtdo[2, 4]\n",
    "end \n",
    "\n",
    "# Calculo el pocket original\n",
    "pdb_mto = \"/home/german/labo/16/hemo/cavities/2displ/bu/mto.pdb\"\n",
    "conf_mto = \"/home/german/labo/16/hemo/cavities/2displ/bu/conf_mto.cfg\"\n",
    "vol_mto = \"/home/german/labo/16/hemo/cavities/2displ/mto/vol.dat\"\n",
    "run(`epock -s $pdb_mto -c $conf_mto -o $vol_mto`)\n",
    "rtdo = readdlm(vol_mto)\n",
    "orig_vol_pocket_mto_1 = rtdo[2, 2]\n",
    "orig_vol_pocket_mto_2 = rtdo[2, 3]\n",
    "orig_vol_pocket_mto_3 = rtdo[2, 4]\n",
    "\n",
    "# Obtengo los vectores gradiente p/ c/ hueco # 1=corto; 2=portal; 3=largo\n",
    "vec_pocket_mto_1 = (vol_pocket_mto_1 .- orig_vol_pocket_mto_1).^2\n",
    "vec_pocket_mto_2 = (vol_pocket_mto_2 .- orig_vol_pocket_mto_2).^2\n",
    "vec_pocket_mto_3 = (vol_pocket_mto_3 .- orig_vol_pocket_mto_3).^2;\n",
    "# Los normalizo\n",
    "vec_pocket_mto_1 = vec_pocket_mto_1 / norm(vec_pocket_mto_1)\n",
    "vec_pocket_mto_2 = vec_pocket_mto_2 / norm(vec_pocket_mto_2)\n",
    "vec_pocket_mto_3 = vec_pocket_mto_3 / norm(vec_pocket_mto_3)\n",
    "\n",
    "# Los guardo\n",
    "out_vec_1 = string(\"/home/german/labo/16/hemo/cavities/2displ/vtores/\", magnitude,\"_vec_pocket_mto_corto\")\n",
    "out_vec_2 = string(\"/home/german/labo/16/hemo/cavities/2displ/vtores/\", magnitude,\"_vec_pocket_mto_portal\")\n",
    "out_vec_3 = string(\"/home/german/labo/16/hemo/cavities/2displ/vtores/\", magnitude,\"_vec_pocket_mto_largo\")\n",
    "df_vec_pocket_mto_1 = DataFrame(delta = vec_pocket_mto_1)\n",
    "df_vec_pocket_mto_2 = DataFrame(delta = vec_pocket_mto_2)\n",
    "df_vec_pocket_mto_3 = DataFrame(delta = vec_pocket_mto_3)\n",
    "writetable(out_vec_1, df_vec_pocket_mto_1)\n",
    "writetable(out_vec_2, df_vec_pocket_mto_2)\n",
    "writetable(out_vec_3, df_vec_pocket_mto_3);"
   ]
  },
  {
   "cell_type": "code",
   "execution_count": null,
   "metadata": {
    "collapsed": false
   },
   "outputs": [],
   "source": [
    "plot(df_vec_pocket_mto_1,\n",
    "y=\"delta\",  \n",
    "Geom.bar(position=:dodge), \n",
    "Guide.Title(\"delta de vol de canal corto segun modo\"),\n",
    "Coord.Cartesian(xmin=1, xmax=400),\n",
    "Guide.xticks(ticks = collect(1:2:400), orientation=:horizontal))"
   ]
  },
  {
   "cell_type": "code",
   "execution_count": null,
   "metadata": {
    "collapsed": false
   },
   "outputs": [],
   "source": [
    "plot(df_vec_pocket_mto_2,\n",
    "y=\"delta\",  \n",
    "Geom.bar(position=:dodge), \n",
    "Guide.Title(\"delta de vol de portal segun modo\"),\n",
    "Coord.Cartesian(xmin=1, xmax=400),\n",
    "Guide.xticks(ticks = collect(1:2:400), orientation=:horizontal))"
   ]
  },
  {
   "cell_type": "code",
   "execution_count": null,
   "metadata": {
    "collapsed": false
   },
   "outputs": [],
   "source": [
    "plot(df_vec_pocket_mto_3,\n",
    "y=\"delta\",  \n",
    "Geom.bar(position=:dodge), \n",
    "Guide.Title(\"delta de vol de canal largo segun modo\"),\n",
    "Coord.Cartesian(xmin=1, xmax=400),\n",
    "Guide.xticks(ticks = collect(1:2:400), orientation=:horizontal))"
   ]
  },
  {
   "cell_type": "markdown",
   "metadata": {},
   "source": [
    "## Along cartesian coordinates"
   ]
  },
  {
   "cell_type": "code",
   "execution_count": null,
   "metadata": {
    "collapsed": false
   },
   "outputs": [],
   "source": [
    "# Leo el pdb\n",
    "pdb_file_original = \"/home/german/labo/16/hemo/cavities/3displ/bu/mto.pdb\"\n",
    "pdb = read(\"/home/german/labo/16/hemo/cavities/3displ/bu/mto.pdb\", PDBFile, group=\"ATOM\");\n",
    "atom_xyz = coordinatesmatrix(pdb)\n",
    "pdb_name = \"mto\"\n",
    "# Obtengo el número de átomos de c/ residuo\n",
    "natom_res = Array{Int64}(1);\n",
    "for i=1:length(pdb)\n",
    "    push!(natom_res, length(pdb[i]))\n",
    "end\n",
    "shift!(natom_res)\n",
    "\n",
    "# Preparo más variables\n",
    "aa = length(pdb)\n",
    "aa3 = length(pdb) * 3\n",
    "#aa_index = collect(3:129)\n",
    "aa_index = collect(1:120)\n",
    "aa3_index = map(x -> x*3, repeat(aa_index, inner=[3])) - repeat([2, 1, 0], outer = [length(aa_index)]);\n",
    "aa_modes = 125 - 6 + 1\n",
    "aa3_modes = aa_modes * 3 # esta es la long de los modos y el nro de modos + 6\n",
    "aa_modes_index = collect(6:125)\n",
    "aa3_modes_index = map(x -> x*3, repeat(aa_modes_index, inner=[3])) - repeat([2, 1, 0], outer = [length(aa_modes_index)]);\n",
    "modo_sum = Array{Float64}(aa3_modes, 3);\n",
    "# Arrays p/ guardar volumenes de pockets\n",
    "vol_pocket_1 = Array{Float64}(aa3);\n",
    "vol_pocket_2 = Array{Float64}(aa3);\n",
    "vol_pocket_3 = Array{Float64}(aa3);\n",
    "# Files de IN / OUT\n",
    "# IN\n",
    "files_template = \"/home/german/labo/16/hemo/cavities/3displ/mto/\"\n",
    "conf_file = string(\"/home/german/labo/16/hemo/cavities/3displ/bu/conf_\", pdb_name, \".cfg\")\n",
    "#OUT\n",
    "vol_file = string(\"/home/german/labo/16/hemo/cavities/3displ/\", pdb_name, \"vol_\", pdb_name)\n",
    "\n",
    "# Leo los modos de PCA. Ya tienen cortados a los aminoácidos de los extremos.\n",
    "modes, evals = read_ptraj_modes(\"/home/german/labo/16/hemo/run/mto/pca/modes_mto\", aa3_modes);"
   ]
  },
  {
   "cell_type": "code",
   "execution_count": null,
   "metadata": {
    "collapsed": false
   },
   "outputs": [],
   "source": [
    "# Hago los .pdbs desplazados\n",
    "constant = 0.01\n",
    "for magnitude in [1 3 5 8]\n",
    "    displacement = string(\"d\", magnitude)    \n",
    "    for j=1:aa\n",
    "# Preparo p/ desplazar la estructura\n",
    "        new_atom_xyz = copy(atom_xyz)\n",
    "        new_pdb = copy(pdb)\n",
    "        x_add = [repeat([1], inner=[natom_res[j]]) repeat([0], inner=[natom_res[j]]) repeat([0], inner=[natom_res[j]])]\n",
    "        y_add = [repeat([0], inner=[natom_res[j]]) repeat([1], inner=[natom_res[j]]) repeat([0], inner=[natom_res[j]])]\n",
    "        z_add = [repeat([0], inner=[natom_res[j]]) repeat([0], inner=[natom_res[j]]) repeat([1], inner=[natom_res[j]])]\n",
    "\n",
    "# Desplazo en X\n",
    "        displaced_atom_xyz = coordinatesmatrix(pdb[j]) + x_add .* magnitude .* constant\n",
    "        new_pdb[j] = change_coordinates(pdb[j], displaced_atom_xyz)        \n",
    "# Escribo el nuevo .pdb\n",
    "        pdb_file = string(files_template, displacement, \"/\", \"x\", j, \"_\", displacement, \"_\", pdb_name,\".pdb\")\n",
    "        write(pdb_file, new_pdb, PDBFile)\n",
    "############\n",
    "# Desplazo en Y\n",
    "        displaced_atom_xyz = coordinatesmatrix(pdb[j]) + y_add .* magnitude .* constant\n",
    "        new_pdb[j] = change_coordinates(pdb[j], displaced_atom_xyz)        \n",
    "# Escribo el nuevo .pdb\n",
    "        pdb_file = string(files_template, displacement, \"/\", \"y\", j, \"_\", displacement, \"_\", pdb_name,\".pdb\")\n",
    "        write(pdb_file, new_pdb, PDBFile)\n",
    "############\n",
    "# Desplazo en Z\n",
    "        displaced_atom_xyz = coordinatesmatrix(pdb[j]) + z_add .* magnitude .* constant\n",
    "        new_pdb[j] = change_coordinates(pdb[j], displaced_atom_xyz)        \n",
    "# Escribo el nuevo .pdb\n",
    "        pdb_file = string(files_template, displacement, \"/\", \"z\", j, \"_\", displacement, \"_\", pdb_name,\".pdb\")\n",
    "        write(pdb_file, new_pdb, PDBFile)\n",
    "    end\n",
    "end"
   ]
  },
  {
   "cell_type": "code",
   "execution_count": null,
   "metadata": {
    "collapsed": false
   },
   "outputs": [],
   "source": [
    "# Calculo los vectores\n",
    "magnitude = 8\n",
    "displacement = string(\"d\", magnitude)    \n",
    "for j=1:aa    \n",
    "    pdb_file = string(files_template, displacement, \"/\", \"x\", j, \"_\", displacement, \"_\", pdb_name,\".pdb\")\n",
    "# Calculo los pockets\n",
    "    run(`epock -s $pdb_file -c $conf_file -o $vol_file`)\n",
    "    rtdo = readdlm(vol_file)\n",
    "    vol_pocket_1[j*3-2] = rtdo[2, 2]\n",
    "    vol_pocket_2[j*3-2] = rtdo[2, 3]\n",
    "    vol_pocket_3[j*3-2] = rtdo[2, 4]\n",
    "############\n",
    "    pdb_file = string(files_template, displacement, \"/\", \"y\", j, \"_\", displacement, \"_\", pdb_name,\".pdb\")\n",
    "# Calculo los pockets\n",
    "    run(`epock -s $pdb_file -c $conf_file -o $vol_file`)\n",
    "    rtdo = readdlm(vol_file)\n",
    "    vol_pocket_1[j*3-1] = rtdo[2, 2]\n",
    "    vol_pocket_2[j*3-1] = rtdo[2, 3]\n",
    "    vol_pocket_3[j*3-1] = rtdo[2, 4]\n",
    "############\n",
    "    pdb_file = string(files_template, displacement, \"/\", \"z\", j, \"_\", displacement, \"_\", pdb_name,\".pdb\")\n",
    "# Calculo los pockets\n",
    "    run(`epock -s $pdb_file -c $conf_file -o $vol_file`)\n",
    "    rtdo = readdlm(vol_file)\n",
    "    vol_pocket_1[j*3] = rtdo[2, 2]\n",
    "    vol_pocket_2[j*3] = rtdo[2, 3]\n",
    "    vol_pocket_3[j*3] = rtdo[2, 4]    \n",
    "end\n",
    "\n",
    "# Calculo el pocket original\n",
    "run(`epock -s $pdb_file_original -c $conf_file -o $vol_file`)\n",
    "rtdo = readdlm(vol_file)\n",
    "orig_vol_pocket_1 = rtdo[2, 2]\n",
    "orig_vol_pocket_2 = rtdo[2, 3]\n",
    "orig_vol_pocket_3 = rtdo[2, 4]\n",
    "\n",
    "# Obtengo los vectores gradiente p/ c/ hueco # 1=corto; 2=portal; 3=largo\n",
    "vec_pocket_1 = (vol_pocket_1 .- orig_vol_pocket_1).^2\n",
    "vec_pocket_2 = (vol_pocket_2 .- orig_vol_pocket_2).^2\n",
    "vec_pocket_3 = (vol_pocket_3 .- orig_vol_pocket_3).^2;\n",
    "# Los normalizo\n",
    "vec_pocket_1 = vec_pocket_1 / norm(vec_pocket_1)\n",
    "vec_pocket_2 = vec_pocket_2 / norm(vec_pocket_2)\n",
    "vec_pocket_3 = vec_pocket_3 / norm(vec_pocket_3)\n",
    "\n",
    "# Los guardo\n",
    "out_vec_1 = string(\"/home/german/labo/16/hemo/cavities/3displ/vtores/\", magnitude,\"_vec_pocket_mto_corto\")\n",
    "out_vec_2 = string(\"/home/german/labo/16/hemo/cavities/3displ/vtores/\", magnitude,\"_vec_pocket_mto_portal\")\n",
    "out_vec_3 = string(\"/home/german/labo/16/hemo/cavities/3displ/vtores/\", magnitude,\"_vec_pocket_mto_largo\")\n",
    "df_vec_pocket_1 = DataFrame(delta = vec_pocket_1)\n",
    "df_vec_pocket_2 = DataFrame(delta = vec_pocket_2)\n",
    "df_vec_pocket_3 = DataFrame(delta = vec_pocket_3)\n",
    "writetable(out_vec_1, df_vec_pocket_1)\n",
    "writetable(out_vec_2, df_vec_pocket_2)\n",
    "writetable(out_vec_3, df_vec_pocket_3);\n",
    "\n",
    "# Ahora quiero saber q aa's afectaron al cambio de volumen del hueco.\n",
    "wall_resi_pocket_1 = convert(Array{Int64}, unique(ceil(aa3_index[vec_pocket_1 .!= 0] ./ 3)))\n",
    "wall_resi_pocket_2 = convert(Array{Int64}, unique(ceil(aa3_index[vec_pocket_2 .!= 0] ./ 3)))\n",
    "wall_resi_pocket_3 = convert(Array{Int64}, unique(ceil(aa3_index[vec_pocket_3 .!= 0] ./ 3)));"
   ]
  },
  {
   "cell_type": "code",
   "execution_count": null,
   "metadata": {
    "collapsed": false
   },
   "outputs": [],
   "source": [
    "plot(df_vec_pocket_1,\n",
    "y=\"delta\",  \n",
    "Geom.bar(position=:dodge), \n",
    "Guide.Title(\"delta de vol de canal corto segun modo\"),\n",
    "Coord.Cartesian(xmin=1, xmax=400),\n",
    "Guide.xticks(ticks = collect(1:2:50), orientation=:horizontal))"
   ]
  },
  {
   "cell_type": "code",
   "execution_count": null,
   "metadata": {
    "collapsed": false
   },
   "outputs": [],
   "source": [
    "plot(df_vec_pocket_2,\n",
    "y=\"delta\",  \n",
    "Geom.bar(position=:dodge), \n",
    "Guide.Title(\"delta de vol de portal segun modo\"),\n",
    "Coord.Cartesian(xmin=1, xmax=400),\n",
    "Guide.xticks(ticks = collect(1:10:400), orientation=:horizontal))"
   ]
  },
  {
   "cell_type": "code",
   "execution_count": null,
   "metadata": {
    "collapsed": false
   },
   "outputs": [],
   "source": [
    "plot(df_vec_pocket_3,\n",
    "y=\"delta\",  \n",
    "Geom.bar(position=:dodge), \n",
    "Guide.Title(\"delta de vol de canal largo segun modo\"),\n",
    "Coord.Cartesian(xmin=1, xmax=400),\n",
    "Guide.xticks(ticks = collect(1:10:400), orientation=:horizontal))"
   ]
  },
  {
   "cell_type": "markdown",
   "metadata": {},
   "source": [
    "## Ahora miro los modos importantes, según el gradiente en coords de modos"
   ]
  },
  {
   "cell_type": "code",
   "execution_count": null,
   "metadata": {
    "collapsed": true
   },
   "outputs": [],
   "source": [
    "# corto: modo 3\n",
    "# portal: modo 4\n",
    "# largo: modo 1, 4\n",
    "gnm_1 = tognm(modes[:, 1])\n",
    "gnm_3 = tognm(modes[:, 3])\n",
    "gnm_4 = tognm(modes[:, 4]);\n",
    "\n",
    "df_vec_pocket_gnm_1 = DataFrame(modo = gnm_3)\n",
    "plot(df_vec_pocket_gnm_1,\n",
    "y=\"modo\",  \n",
    "Geom.bar(position=:dodge), \n",
    "Guide.Title(\"fluctuaciones de c/ aminoácido según modo 3\"),\n",
    "Coord.Cartesian(xmin=1, xmax=125),\n",
    "Guide.xticks(ticks = wall_resi_pocket_1, orientation=:horizontal))"
   ]
  },
  {
   "cell_type": "code",
   "execution_count": null,
   "metadata": {
    "collapsed": true
   },
   "outputs": [],
   "source": [
    "df_vec_pocket_gnm_1 = DataFrame(modo = gnm_4)\n",
    "plot(df_vec_pocket_gnm_1,\n",
    "y=\"modo\",  \n",
    "Geom.bar(position=:dodge), \n",
    "Guide.Title(\"fluctuaciones de c/ aminoácido según modo 4\"),\n",
    "Coord.Cartesian(xmin=1, xmax=125),\n",
    "Guide.xticks(ticks = wall_resi_pocket_2, orientation=:horizontal))"
   ]
  },
  {
   "cell_type": "code",
   "execution_count": null,
   "metadata": {
    "collapsed": true
   },
   "outputs": [],
   "source": [
    "df_vec_pocket_gnm_1 = DataFrame(modo = (gnm_1 + gnm_4))\n",
    "plot(df_vec_pocket_gnm_1,\n",
    "y=\"modo\",  \n",
    "Geom.bar(position=:dodge), \n",
    "Guide.Title(\"fluctuaciones de c/ aminoácido según suma de modos 1 y 4\"),\n",
    "Coord.Cartesian(xmin=1, xmax=125),\n",
    "Guide.xticks(ticks = wall_resi_pocket_3, orientation=:horizontal))"
   ]
  },
  {
   "cell_type": "code",
   "execution_count": null,
   "metadata": {
    "collapsed": false
   },
   "outputs": [],
   "source": []
  },
  {
   "cell_type": "code",
   "execution_count": null,
   "metadata": {
    "collapsed": true
   },
   "outputs": [],
   "source": []
  }
 ],
 "metadata": {
  "kernelspec": {
   "display_name": "Julia 0.4.5",
   "language": "julia",
   "name": "julia-0.4"
  },
  "language_info": {
   "file_extension": ".jl",
   "mimetype": "application/julia",
   "name": "julia",
   "version": "0.4.5"
  }
 },
 "nbformat": 4,
 "nbformat_minor": 0
}
