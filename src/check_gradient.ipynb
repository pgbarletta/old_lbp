{
 "cells": [
  {
   "cell_type": "markdown",
   "metadata": {},
   "source": [
    "# Acá hago pdtos escalares entre los gradientes con distintos desplazamientos q obtuve"
   ]
  },
  {
   "cell_type": "markdown",
   "metadata": {},
   "source": [
    "## Vectores gradiente de modos"
   ]
  },
  {
   "cell_type": "code",
   "execution_count": 1,
   "metadata": {
    "collapsed": false
   },
   "outputs": [],
   "source": [
    "using DataFrames\n",
    "using Distributions\n",
    "set_default_plot_size(28cm, 10cm)"
   ]
  },
  {
   "cell_type": "code",
   "execution_count": 27,
   "metadata": {
    "collapsed": false,
    "scrolled": true
   },
   "outputs": [],
   "source": [
    "out_vec_1 = string(\"/home/german/labo/16/hemo/cavities/2displ/vtores/\", 1,\"_vec_pocket_mto_corto\")\n",
    "out_vec_2 = string(\"/home/german/labo/16/hemo/cavities/2displ/vtores/\", 3,\"_vec_pocket_mto_corto\")\n",
    "out_vec_3 = string(\"/home/german/labo/16/hemo/cavities/2displ/vtores/\", 5,\"_vec_pocket_mto_corto\")\n",
    "out_vec_4 = string(\"/home/german/labo/16/hemo/cavities/2displ/vtores/\", 8,\"_vec_pocket_mto_corto\")\n",
    "\n",
    "df_vec_pocket_corto_1 = readtable(out_vec_1)\n",
    "df_vec_pocket_corto_3 = readtable(out_vec_2)\n",
    "df_vec_pocket_corto_5 = readtable(out_vec_3)\n",
    "df_vec_pocket_corto_8 = readtable(out_vec_4);\n",
    "\n",
    "mt_corto = [df_vec_pocket_corto_1[:, 1]  df_vec_pocket_corto_3[:, 1] df_vec_pocket_corto_5[:, 1] df_vec_pocket_corto_8[:, 1]]\n",
    "\n",
    "out_vec_1 = string(\"/home/german/labo/16/hemo/cavities/2displ/vtores/\", 1,\"_vec_pocket_mto_portal\")\n",
    "out_vec_2 = string(\"/home/german/labo/16/hemo/cavities/2displ/vtores/\", 3,\"_vec_pocket_mto_portal\")\n",
    "out_vec_3 = string(\"/home/german/labo/16/hemo/cavities/2displ/vtores/\", 5,\"_vec_pocket_mto_portal\")\n",
    "out_vec_4 = string(\"/home/german/labo/16/hemo/cavities/2displ/vtores/\", 8,\"_vec_pocket_mto_portal\")\n",
    "\n",
    "df_vec_pocket_portal_1 = readtable(out_vec_1)\n",
    "df_vec_pocket_portal_3 = readtable(out_vec_2)\n",
    "df_vec_pocket_portal_5 = readtable(out_vec_3)\n",
    "df_vec_pocket_portal_8 = readtable(out_vec_4);\n",
    "\n",
    "mt_portal = [df_vec_pocket_portal_1[:, 1]  df_vec_pocket_portal_3[:, 1] df_vec_pocket_portal_5[:, 1] df_vec_pocket_portal_8[:, 1]]\n",
    "\n",
    "out_vec_1 = string(\"/home/german/labo/16/hemo/cavities/2displ/vtores/\", 1,\"_vec_pocket_mto_largo\")\n",
    "out_vec_2 = string(\"/home/german/labo/16/hemo/cavities/2displ/vtores/\", 3,\"_vec_pocket_mto_largo\")\n",
    "out_vec_3 = string(\"/home/german/labo/16/hemo/cavities/2displ/vtores/\", 5,\"_vec_pocket_mto_largo\")\n",
    "out_vec_4 = string(\"/home/german/labo/16/hemo/cavities/2displ/vtores/\", 8,\"_vec_pocket_mto_largo\")\n",
    "\n",
    "df_vec_pocket_largo_1 = readtable(out_vec_1)\n",
    "df_vec_pocket_largo_3 = readtable(out_vec_2)\n",
    "df_vec_pocket_largo_5 = readtable(out_vec_3)\n",
    "df_vec_pocket_largo_8 = readtable(out_vec_4);\n",
    "\n",
    "mt_largo = [df_vec_pocket_largo_1[:, 1]  df_vec_pocket_largo_3[:, 1] df_vec_pocket_largo_5[:, 1] df_vec_pocket_largo_8[:, 1]];"
   ]
  },
  {
   "cell_type": "code",
   "execution_count": 28,
   "metadata": {
    "collapsed": false,
    "scrolled": true
   },
   "outputs": [
    {
     "data": {
      "text/plain": [
       "4x4 DataArrays.DataArray{Float64,2}:\n",
       " 1.0       0.54239   0.559949  0.557998\n",
       " 0.54239   1.0       0.728281  0.671759\n",
       " 0.559949  0.728281  1.0       0.860533\n",
       " 0.557998  0.671759  0.860533  1.0     "
      ]
     },
     "execution_count": 28,
     "metadata": {},
     "output_type": "execute_result"
    }
   ],
   "source": [
    "transpose(mt_corto) * mt_corto"
   ]
  },
  {
   "cell_type": "code",
   "execution_count": 29,
   "metadata": {
    "collapsed": false,
    "scrolled": true
   },
   "outputs": [
    {
     "data": {
      "text/plain": [
       "4x4 DataArrays.DataArray{Float64,2}:\n",
       " 1.0       0.595428  0.551571  0.59123 \n",
       " 0.595428  1.0       0.826484  0.758894\n",
       " 0.551571  0.826484  1.0       0.878124\n",
       " 0.59123   0.758894  0.878124  1.0     "
      ]
     },
     "execution_count": 29,
     "metadata": {},
     "output_type": "execute_result"
    }
   ],
   "source": [
    "transpose(mt_portal) * mt_portal"
   ]
  },
  {
   "cell_type": "code",
   "execution_count": 30,
   "metadata": {
    "collapsed": false,
    "scrolled": true
   },
   "outputs": [
    {
     "data": {
      "text/plain": [
       "4x4 DataArrays.DataArray{Float64,2}:\n",
       " 1.0       0.654596  0.567085  0.540419\n",
       " 0.654596  1.0       0.865008  0.764374\n",
       " 0.567085  0.865008  1.0       0.901275\n",
       " 0.540419  0.764374  0.901275  1.0     "
      ]
     },
     "execution_count": 30,
     "metadata": {},
     "output_type": "execute_result"
    }
   ],
   "source": [
    "transpose(mt_largo) * mt_largo"
   ]
  },
  {
   "cell_type": "markdown",
   "metadata": {},
   "source": [
    "## Vectores gradiente de coordenadas"
   ]
  },
  {
   "cell_type": "code",
   "execution_count": 31,
   "metadata": {
    "collapsed": false,
    "scrolled": true
   },
   "outputs": [],
   "source": [
    "out_vec_1 = string(\"/home/german/labo/16/hemo/cavities/3displ/vtores/\", 1,\"_vec_pocket_mto_corto\")\n",
    "out_vec_2 = string(\"/home/german/labo/16/hemo/cavities/3displ/vtores/\", 3,\"_vec_pocket_mto_corto\")\n",
    "out_vec_3 = string(\"/home/german/labo/16/hemo/cavities/3displ/vtores/\", 5,\"_vec_pocket_mto_corto\")\n",
    "out_vec_4 = string(\"/home/german/labo/16/hemo/cavities/3displ/vtores/\", 8,\"_vec_pocket_mto_corto\")\n",
    "\n",
    "df_vec_pocket_corto_1 = readtable(out_vec_1)\n",
    "df_vec_pocket_corto_3 = readtable(out_vec_2)\n",
    "df_vec_pocket_corto_5 = readtable(out_vec_3)\n",
    "df_vec_pocket_corto_8 = readtable(out_vec_4);\n",
    "\n",
    "mt_corto = [df_vec_pocket_corto_1[:, 1]  df_vec_pocket_corto_3[:, 1] df_vec_pocket_corto_5[:, 1] df_vec_pocket_corto_8[:, 1]]\n",
    "\n",
    "out_vec_1 = string(\"/home/german/labo/16/hemo/cavities/3displ/vtores/\", 1,\"_vec_pocket_mto_portal\")\n",
    "out_vec_2 = string(\"/home/german/labo/16/hemo/cavities/3displ/vtores/\", 3,\"_vec_pocket_mto_portal\")\n",
    "out_vec_3 = string(\"/home/german/labo/16/hemo/cavities/3displ/vtores/\", 5,\"_vec_pocket_mto_portal\")\n",
    "out_vec_4 = string(\"/home/german/labo/16/hemo/cavities/3displ/vtores/\", 8,\"_vec_pocket_mto_portal\")\n",
    "\n",
    "df_vec_pocket_portal_1 = readtable(out_vec_1)\n",
    "df_vec_pocket_portal_3 = readtable(out_vec_2)\n",
    "df_vec_pocket_portal_5 = readtable(out_vec_3)\n",
    "df_vec_pocket_portal_8 = readtable(out_vec_4);\n",
    "\n",
    "mt_portal = [df_vec_pocket_portal_1[:, 1]  df_vec_pocket_portal_3[:, 1] df_vec_pocket_portal_5[:, 1] df_vec_pocket_portal_8[:, 1]]\n",
    "\n",
    "out_vec_1 = string(\"/home/german/labo/16/hemo/cavities/3displ/vtores/\", 1,\"_vec_pocket_mto_largo\")\n",
    "out_vec_2 = string(\"/home/german/labo/16/hemo/cavities/3displ/vtores/\", 3,\"_vec_pocket_mto_largo\")\n",
    "out_vec_3 = string(\"/home/german/labo/16/hemo/cavities/3displ/vtores/\", 5,\"_vec_pocket_mto_largo\")\n",
    "out_vec_4 = string(\"/home/german/labo/16/hemo/cavities/3displ/vtores/\", 8,\"_vec_pocket_mto_largo\")\n",
    "\n",
    "df_vec_pocket_largo_1 = readtable(out_vec_1)\n",
    "df_vec_pocket_largo_3 = readtable(out_vec_2)\n",
    "df_vec_pocket_largo_5 = readtable(out_vec_3)\n",
    "df_vec_pocket_largo_8 = readtable(out_vec_4);\n",
    "\n",
    "mt_largo = [df_vec_pocket_largo_1[:, 1]  df_vec_pocket_largo_3[:, 1] df_vec_pocket_largo_5[:, 1] df_vec_pocket_largo_8[:, 1]];"
   ]
  },
  {
   "cell_type": "code",
   "execution_count": 32,
   "metadata": {
    "collapsed": false,
    "scrolled": true
   },
   "outputs": [
    {
     "data": {
      "text/plain": [
       "4x4 DataArrays.DataArray{Float64,2}:\n",
       " 1.0       0.28132   0.459523  0.472678\n",
       " 0.28132   1.0       0.862238  0.729581\n",
       " 0.459523  0.862238  1.0       0.909615\n",
       " 0.472678  0.729581  0.909615  1.0     "
      ]
     },
     "execution_count": 32,
     "metadata": {},
     "output_type": "execute_result"
    }
   ],
   "source": [
    "transpose(mt_corto) * mt_corto"
   ]
  },
  {
   "cell_type": "code",
   "execution_count": 33,
   "metadata": {
    "collapsed": false,
    "scrolled": true
   },
   "outputs": [
    {
     "data": {
      "text/plain": [
       "4x4 DataArrays.DataArray{Float64,2}:\n",
       " 1.0       0.883193  0.807711  0.499226\n",
       " 0.883193  1.0       0.805441  0.480338\n",
       " 0.807711  0.805441  1.0       0.799678\n",
       " 0.499226  0.480338  0.799678  1.0     "
      ]
     },
     "execution_count": 33,
     "metadata": {},
     "output_type": "execute_result"
    }
   ],
   "source": [
    "transpose(mt_portal) * mt_portal"
   ]
  },
  {
   "cell_type": "code",
   "execution_count": 34,
   "metadata": {
    "collapsed": false,
    "scrolled": true
   },
   "outputs": [
    {
     "data": {
      "text/plain": [
       "4x4 DataArrays.DataArray{Float64,2}:\n",
       " 1.0       0.490983  0.343495  0.374289\n",
       " 0.490983  1.0       0.804273  0.749838\n",
       " 0.343495  0.804273  1.0       0.869633\n",
       " 0.374289  0.749838  0.869633  1.0     "
      ]
     },
     "execution_count": 34,
     "metadata": {},
     "output_type": "execute_result"
    }
   ],
   "source": [
    "transpose(mt_largo) * mt_largo"
   ]
  },
  {
   "cell_type": "code",
   "execution_count": null,
   "metadata": {
    "collapsed": true
   },
   "outputs": [],
   "source": []
  }
 ],
 "metadata": {
  "kernelspec": {
   "display_name": "Julia 0.4.5",
   "language": "julia",
   "name": "julia-0.4"
  },
  "language_info": {
   "file_extension": ".jl",
   "mimetype": "application/julia",
   "name": "julia",
   "version": "0.4.5"
  }
 },
 "nbformat": 4,
 "nbformat_minor": 0
}
